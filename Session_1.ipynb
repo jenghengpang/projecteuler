{
  "nbformat": 4,
  "nbformat_minor": 0,
  "metadata": {
    "colab": {
      "provenance": [],
      "include_colab_link": true
    },
    "kernelspec": {
      "name": "python3",
      "display_name": "Python 3"
    },
    "language_info": {
      "name": "python"
    }
  },
  "cells": [
    {
      "cell_type": "markdown",
      "metadata": {
        "id": "view-in-github",
        "colab_type": "text"
      },
      "source": [
        "<a href=\"https://colab.research.google.com/github/jenghengpang/projecteuler/blob/main/Session_1.ipynb\" target=\"_parent\"><img src=\"https://colab.research.google.com/assets/colab-badge.svg\" alt=\"Open In Colab\"/></a>"
      ]
    },
    {
      "cell_type": "markdown",
      "source": [
        "# Introduction to Python\n",
        "\n",
        "- get input\n",
        "- process \n",
        "- output result"
      ],
      "metadata": {
        "id": "wwTnHPNzpryj"
      }
    },
    {
      "cell_type": "code",
      "execution_count": null,
      "metadata": {
        "colab": {
          "base_uri": "https://localhost:8080/"
        },
        "id": "YLYe0aczpJCz",
        "outputId": "88932c5b-0a84-4417-f894-0fcc2bef1c42"
      },
      "outputs": [
        {
          "output_type": "stream",
          "name": "stdout",
          "text": [
            "Enter name: tom\n",
            "TOM\n"
          ]
        }
      ],
      "source": [
        "# get input (comments)\n",
        "name = input(\"Enter name: \")\n",
        "\n",
        "# process\n",
        "name = name.upper()\n",
        "\n",
        "# output result\n",
        "print(name)\n"
      ]
    },
    {
      "cell_type": "code",
      "source": [
        "# Calculate BMI (body mass index)\n",
        "\n",
        "# get weight \n",
        "weight = int(input(\"Enter weight (kg): \")) # integer\n",
        "# get height\n",
        "height = float(input(\"Enter height (m): \")) # float\n",
        "\n",
        "# compute bmi\n",
        "bmi = weight / (height * height)\n",
        "\n",
        "# output bmi\n",
        "print(bmi)"
      ],
      "metadata": {
        "colab": {
          "base_uri": "https://localhost:8080/"
        },
        "id": "NFOx5ifpsCIM",
        "outputId": "718f3759-9956-47cf-8966-d7d7b8d50763"
      },
      "execution_count": null,
      "outputs": [
        {
          "output_type": "stream",
          "name": "stdout",
          "text": [
            "Enter weight (kg): 75\n",
            "Enter height (m): 1.82\n",
            "22.6421929718633\n"
          ]
        }
      ]
    },
    {
      "cell_type": "markdown",
      "source": [
        "Shortcut for multiple line comment - Ctrl /"
      ],
      "metadata": {
        "id": "3pD3I8jq899B"
      }
    },
    {
      "cell_type": "code",
      "source": [
        "# Multiples of 3 or 5 \n",
        "# Problem 1\n",
        "# If we list all the natural numbers below 10 that are multiples of 3 or 5, \n",
        "# we get 3, 5, 6 and 9. The sum of these multiples is 23.\n",
        "# Find the sum of all the multiples of 3 or 5 below 1000.\n",
        "\n",
        "# process\n",
        "\n",
        "\n",
        "# output\n",
        "\n"
      ],
      "metadata": {
        "id": "hWu_bP_o8spt"
      },
      "execution_count": null,
      "outputs": []
    },
    {
      "cell_type": "code",
      "source": [
        "1 + 2"
      ],
      "metadata": {
        "colab": {
          "base_uri": "https://localhost:8080/"
        },
        "id": "zPiqvWAc-zv_",
        "outputId": "dc707c57-9a90-4b58-b656-c60e4f307236"
      },
      "execution_count": null,
      "outputs": [
        {
          "output_type": "execute_result",
          "data": {
            "text/plain": [
              "3"
            ]
          },
          "metadata": {},
          "execution_count": 4
        }
      ]
    },
    {
      "cell_type": "code",
      "source": [
        "4 - 3"
      ],
      "metadata": {
        "colab": {
          "base_uri": "https://localhost:8080/"
        },
        "id": "zH1JlJoO-5fe",
        "outputId": "e4830709-d58e-4b32-bac6-e00c1f0c905d"
      },
      "execution_count": null,
      "outputs": [
        {
          "output_type": "execute_result",
          "data": {
            "text/plain": [
              "1"
            ]
          },
          "metadata": {},
          "execution_count": 5
        }
      ]
    },
    {
      "cell_type": "code",
      "source": [
        "4 * 6"
      ],
      "metadata": {
        "colab": {
          "base_uri": "https://localhost:8080/"
        },
        "id": "xiquoP04-9--",
        "outputId": "1a77c7da-3db2-4949-fa14-364661ecdf9c"
      },
      "execution_count": null,
      "outputs": [
        {
          "output_type": "execute_result",
          "data": {
            "text/plain": [
              "24"
            ]
          },
          "metadata": {},
          "execution_count": 6
        }
      ]
    },
    {
      "cell_type": "code",
      "source": [
        "9 / 4 # true division"
      ],
      "metadata": {
        "colab": {
          "base_uri": "https://localhost:8080/"
        },
        "id": "TLpFaeKQ_ClP",
        "outputId": "10f163ce-4a26-474f-dc71-ff50256f159e"
      },
      "execution_count": null,
      "outputs": [
        {
          "output_type": "execute_result",
          "data": {
            "text/plain": [
              "2.25"
            ]
          },
          "metadata": {},
          "execution_count": 7
        }
      ]
    },
    {
      "cell_type": "code",
      "source": [
        "9 // 4 # integer division"
      ],
      "metadata": {
        "colab": {
          "base_uri": "https://localhost:8080/"
        },
        "id": "yfSomgK2_GWw",
        "outputId": "f5b6fe3b-1ba7-4c0e-fc4f-f5d952da7f8e"
      },
      "execution_count": null,
      "outputs": [
        {
          "output_type": "execute_result",
          "data": {
            "text/plain": [
              "2"
            ]
          },
          "metadata": {},
          "execution_count": 8
        }
      ]
    },
    {
      "cell_type": "code",
      "source": [
        "3 ** 4"
      ],
      "metadata": {
        "colab": {
          "base_uri": "https://localhost:8080/"
        },
        "id": "F-vMBQ6g_J2G",
        "outputId": "5e177331-cfaf-4c33-b94e-fc51ce6beaee"
      },
      "execution_count": null,
      "outputs": [
        {
          "output_type": "execute_result",
          "data": {
            "text/plain": [
              "81"
            ]
          },
          "metadata": {},
          "execution_count": 9
        }
      ]
    },
    {
      "cell_type": "code",
      "source": [
        " 8 % 3 # modulus"
      ],
      "metadata": {
        "colab": {
          "base_uri": "https://localhost:8080/"
        },
        "id": "qCbQqhHy_cN9",
        "outputId": "02c51dea-13ef-489a-df08-44149784f164"
      },
      "execution_count": null,
      "outputs": [
        {
          "output_type": "execute_result",
          "data": {
            "text/plain": [
              "2"
            ]
          },
          "metadata": {},
          "execution_count": 10
        }
      ]
    },
    {
      "cell_type": "code",
      "source": [
        "8 % 4"
      ],
      "metadata": {
        "colab": {
          "base_uri": "https://localhost:8080/"
        },
        "id": "YguToMBt_mWL",
        "outputId": "8ef02f0e-c052-4598-d1a3-35e4f25303d0"
      },
      "execution_count": null,
      "outputs": [
        {
          "output_type": "execute_result",
          "data": {
            "text/plain": [
              "0"
            ]
          },
          "metadata": {},
          "execution_count": 11
        }
      ]
    },
    {
      "cell_type": "code",
      "source": [
        "8 % 4 == 0 # boolean"
      ],
      "metadata": {
        "colab": {
          "base_uri": "https://localhost:8080/"
        },
        "id": "Ca-S7Gcb_vw0",
        "outputId": "f49ee40a-db85-4dcc-c3a8-c9d8ab650264"
      },
      "execution_count": null,
      "outputs": [
        {
          "output_type": "execute_result",
          "data": {
            "text/plain": [
              "True"
            ]
          },
          "metadata": {},
          "execution_count": 12
        }
      ]
    },
    {
      "cell_type": "code",
      "source": [
        "8 % 3 == 0"
      ],
      "metadata": {
        "colab": {
          "base_uri": "https://localhost:8080/"
        },
        "id": "6eOo3gFeADkU",
        "outputId": "e8cac399-3646-47fe-cbf0-4efddfb55626"
      },
      "execution_count": null,
      "outputs": [
        {
          "output_type": "execute_result",
          "data": {
            "text/plain": [
              "False"
            ]
          },
          "metadata": {},
          "execution_count": 13
        }
      ]
    },
    {
      "cell_type": "code",
      "source": [
        "if 8 % 3 == 0: # 9 is multiple of 3\n",
        "  print(\"multiple\")\n",
        "else:\n",
        "  print(\"not divisible\")"
      ],
      "metadata": {
        "colab": {
          "base_uri": "https://localhost:8080/"
        },
        "id": "ShyL1mXzAZs1",
        "outputId": "cb082964-b620-4cf5-8fe8-cde1bec17a8f"
      },
      "execution_count": null,
      "outputs": [
        {
          "output_type": "stream",
          "name": "stdout",
          "text": [
            "not divisible\n"
          ]
        }
      ]
    },
    {
      "cell_type": "code",
      "source": [
        "num = 6\n",
        "\n",
        "if num % 3 == 0: # divisible\n",
        "  print(\"divisible\")\n",
        "else:\n",
        "  print(\"not divisible\")"
      ],
      "metadata": {
        "colab": {
          "base_uri": "https://localhost:8080/"
        },
        "id": "X5dz5-cdCd5V",
        "outputId": "b323af81-34af-4033-d5dd-f6c2c7bc153c"
      },
      "execution_count": null,
      "outputs": [
        {
          "output_type": "stream",
          "name": "stdout",
          "text": [
            "divisible\n"
          ]
        }
      ]
    },
    {
      "cell_type": "code",
      "source": [
        "for i in range(0, 5):\n",
        "  print(i)"
      ],
      "metadata": {
        "colab": {
          "base_uri": "https://localhost:8080/"
        },
        "id": "wLpJp7oVC8hH",
        "outputId": "c156668e-f517-4919-c30e-1fb06f865481"
      },
      "execution_count": null,
      "outputs": [
        {
          "output_type": "stream",
          "name": "stdout",
          "text": [
            "0\n",
            "1\n",
            "2\n",
            "3\n",
            "4\n"
          ]
        }
      ]
    },
    {
      "cell_type": "code",
      "source": [
        "total = 0\n",
        "\n",
        "for i in range(1, 1000):\n",
        "  # print(i)\n",
        "  if (i % 3 == 0) or (i % 5 == 0): # divisible because zero remainder\n",
        "    total = total + i # assignment\n",
        "\n",
        "print(total)"
      ],
      "metadata": {
        "colab": {
          "base_uri": "https://localhost:8080/"
        },
        "outputId": "9d0acfc0-5208-416b-a54d-c1d88315872a",
        "id": "J_F0QmHfDW1V"
      },
      "execution_count": null,
      "outputs": [
        {
          "output_type": "stream",
          "name": "stdout",
          "text": [
            "233168\n"
          ]
        }
      ]
    }
  ]
}